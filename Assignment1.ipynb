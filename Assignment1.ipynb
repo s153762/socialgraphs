{
 "cells": [
  {
   "cell_type": "markdown",
   "metadata": {},
   "source": [
    "# Assignement 1 - Social graphs and interactions (02805) \n",
    "## 2rd October 2018 - Emilie, Jon & Maren"
   ]
  },
  {
   "cell_type": "markdown",
   "metadata": {
    "collapsed": true
   },
   "source": [
    "### Part One: Network Models\n",
    "\n",
    "### 1. Watts-Strogatz Networks\n",
    "\n",
    "* Use `nx.watts_strogatz_graph` to generate 3 graphs with 500 nodes each, average degree = 4, and rewiring probablity p = 0, 0.1, and 1. Calculate the average shortest path length $\\langle d \\rangle$ for each one. Describe what happens to the network when p = 1.\n",
    "    * *As seen by the python code below the average shortest path length for the different graphs vary greatly. Graph 1 has 0 probability on being random, while with a 10% probability these 'short-cuts' are created that makes the average path length significally smaller.*\n",
    "    * When p=1 the graph is completely random.\n"
   ]
  },
  {
   "cell_type": "code",
   "execution_count": null,
   "metadata": {
    "collapsed": true
   },
   "outputs": [],
   "source": [
    "#%matplotlib inline \n",
    "import matplotlib.pyplot as plt\n",
    "import networkx as nx\n",
    "import numpy as np\n",
    "\n",
    "\n",
    "G1 = nx.watts_strogatz_graph(500, 4, 0)\n",
    "G2 = nx.watts_strogatz_graph(500, 4, 0.1)\n",
    "G3 = nx.watts_strogatz_graph(500, 4, 1)\n",
    "\n",
    "print(\"The average shortest path length for graph with p=0.0 is %s\" % nx.average_shortest_path_length(G1))\n",
    "print(\"The average shortest path length for graph with p=0.1 is %s\" % nx.average_shortest_path_length(G2))\n",
    "print(\"The average shortest path length for graph with p=1.0 is %s\" % nx.average_shortest_path_length(G3))\n",
    "\n",
    "nx.draw(G1, node_size=40, width=0.5)\n",
    "plt.show()\n",
    "\n",
    "nx.draw(G2, node_size=40, width=0.5)\n",
    "plt.show()\n",
    "\n",
    "nx.draw(G3, node_size=40, width=0.5)\n",
    "plt.show()"
   ]
  },
  {
   "cell_type": "markdown",
   "metadata": {},
   "source": [
    "* Let's understand the behavior of the WS model as we increase _p_ in more detail.. Generate 50 networks with $N = 500$, $\\langle k \\rangle = 4$, for each of $p = \\{0, 0.01, 0.03, 0.05, 0.1, 0.2\\}$. Calculate the average of $\\langle d \\rangle$ as well as the standard deviation over the 50 networks, to create a plot that shows how the path length decreases very quickly with only a little fraction of re-wiring. Use the standard deviation to add errorbars to the plot. My version of the plot is below (since a picture's worth 1000 words).\n",
    "\n",
    "\n",
    "![Sune's version](https://raw.githubusercontent.com/suneman/socialgraphs2017/master/files/ws.png)"
   ]
  },
  {
   "cell_type": "code",
   "execution_count": null,
   "metadata": {
    "collapsed": true
   },
   "outputs": [],
   "source": [
    "p = [0,0.01,0.03,0.05,0.1,0.2]\n",
    "d = [[],[],[],[],[],[]]\n",
    "print(\"start\")\n",
    "for i in range(0,6):\n",
    "    for j in range(0,50):\n",
    "        d[i][j] = i+j#nx.average_shortest_path_length(nx.watts_strogatz_graph(500, 4, p[i]))\n",
    "        print(d[i])\n",
    "    d[i] = d[i]/50\n",
    "\n",
    "print(\"result: %s\" % d)\n",
    "        "
   ]
  },
  {
   "cell_type": "code",
   "execution_count": null,
   "metadata": {
    "collapsed": true
   },
   "outputs": [],
   "source": []
  },
  {
   "cell_type": "code",
   "execution_count": null,
   "metadata": {
    "collapsed": true
   },
   "outputs": [],
   "source": []
  }
 ],
 "metadata": {
  "kernelspec": {
   "display_name": "Python 3",
   "language": "python",
   "name": "python3"
  },
  "language_info": {
   "codemirror_mode": {
    "name": "ipython",
    "version": 3
   },
   "file_extension": ".py",
   "mimetype": "text/x-python",
   "name": "python",
   "nbconvert_exporter": "python",
   "pygments_lexer": "ipython3",
   "version": "3.6.3"
  }
 },
 "nbformat": 4,
 "nbformat_minor": 2
}
