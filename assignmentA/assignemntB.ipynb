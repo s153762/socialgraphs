{
 "cells": [
  {
   "cell_type": "markdown",
   "metadata": {},
   "source": [
    "# Ultimate Fandoms"
   ]
  },
  {
   "cell_type": "markdown",
   "metadata": {},
   "source": [
    "## 1 Motivation\n",
    "\n",
    "Almost all people are interested in pop culture to some extent - some more than others of course. With the spread of the Internet in the 00’s, fans of the same books, movies, games, or music, etc. were given the opportunity to share and cultivate experiences about their common interests with each other. \n",
    "Furthermore, this also gives the opportunity to investigate and clarify the interaction across the different communities. This can be done by downloading data from these platforms, and then creating and analyzing social graphs from the data. And this is exactly what we intend to do.\n",
    "\n",
    "We will use fandom.com, which is wiki hosting service where roughly all fandoms have a wiki. From the Fandom API we can collect data concerning the top contributing users for every fandom-wiki, how big the fanbase is and how the community interact with each other in the forum.\n",
    "\n",
    "* What is your dataset?\n",
    "\n",
    "Our dataset consist of X fandoms, and Y users who contribute to the fandoms.\n",
    "In addition, we have included multiple articles for the different wiki in order to better understand or the use and overall sentiment. \n",
    "\n",
    "* Why did you choose this/these particular dataset(s)?\n",
    "\n",
    "The data is interesting, as it is very broad \n",
    "\n",
    "* What was your goal for the end user's experience?\n",
    "\n",
    "The final goal is to understand which fandoms people are pationated about, as well as find the connection between fandoms. What does the typical gamer have of other interest? Are people how are active in the gaming communities also interested in other topics, or is the typical fan only contained to one or two different areas?"
   ]
  },
  {
   "cell_type": "code",
   "execution_count": 1,
   "metadata": {
    "collapsed": true
   },
   "outputs": [],
   "source": [
    "# Imports for the whole Analysis\n",
    "\n",
    "#from urllib.request import urlopen\n",
    "import json\n",
    "import re\n",
    "#from urllib.parse import quote\n",
    "import pandas as pd\n",
    "from pandas.io.json import json_normalize\n",
    "import collections\n",
    "import itertools\n",
    "import networkx as nx\n",
    "import matplotlib.pyplot as plt\n",
    "from fa2 import ForceAtlas2\n",
    "import numpy as np\n",
    "import datetime\n",
    "import ast # string to dirc\n",
    "import time\n",
    "import community as cm\n",
    "import matplotlib.cm as pltcm\n",
    "import glob\n",
    "\n",
    "# imports for text-analysis\n",
    "import string\n",
    "import nltk\n",
    "from nltk.tokenize import RegexpTokenizer\n",
    "# conda/pip install stop-words\n",
    "from stop_words import get_stop_words\n",
    "from nltk.corpus import stopwords\n",
    "import math\n",
    "from collections import Counter\n",
    "from wordcloud import WordCloud\n",
    "# conda install -c phlya adjusttext \n",
    "#from adjustText import adjust_text"
   ]
  },
  {
   "cell_type": "markdown",
   "metadata": {},
   "source": [
    "## 2 Basic stats\n",
    "\n",
    "\n",
    "* Write about your choices in data cleaning and preprocessing.\n",
    "* Write a short section that discusses the dataset stats (here you can recycle the work you did for Project Assignment A)"
   ]
  },
  {
   "cell_type": "code",
   "execution_count": null,
   "metadata": {
    "collapsed": true
   },
   "outputs": [],
   "source": [
    "# Get wikis/dataset from csv\n",
    "fullDataSet = pd.read_csv(\"data/sortedWikiData.csv\", sep='\\t')\n",
    "\n",
    "# Drop old index column named \"Unnamed: 0\"\n",
    "fullDataSet = fullDataSet.drop(['Unnamed: 0'], axis=1)\n",
    "fullDataSet.head()"
   ]
  },
  {
   "cell_type": "code",
   "execution_count": null,
   "metadata": {
    "collapsed": true
   },
   "outputs": [],
   "source": [
    "# Methode that remove inactive wikis and duplicates\n",
    "def findActiveWikis(dataSet):\n",
    "    activeDataSet = pd.DataFrame()\n",
    "    \n",
    "    # Remove duplicates\n",
    "    dataSet = dataSet.drop_duplicates()\n",
    "    \n",
    "    # Find stats in dataset\n",
    "    for wiki in dataSet.T.items():\n",
    "        wiki = wiki[1]\n",
    "        stats = wiki['stats']\n",
    "        \n",
    "        # Only add wiki to list when at in contains at least 1 active user\n",
    "        sDirc = ast.literal_eval(stats)\n",
    "        if int(sDirc['activeUsers'])>1:\n",
    "            activeDataSet = activeDataSet.append(wiki) \n",
    "    \n",
    "    # Create new index\n",
    "    activeDataSet = activeDataSet.reset_index(drop=True)\n",
    "    return activeDataSet"
   ]
  },
  {
   "cell_type": "code",
   "execution_count": null,
   "metadata": {
    "collapsed": true
   },
   "outputs": [],
   "source": [
    "### Filter Wiki Data ###\n",
    "activeDataSet = findActiveWikis(fullDataSet)\n",
    "\n",
    "print(\"%s Wikis before filter, and %s Wikis efter filter.\\n%s has been removed\" % \n",
    "      (len(fullDataSet),len(activeDataSet),len(fullDataSet)-len(activeDataSet)))\n",
    "\n",
    "activeDataSet.head()\n",
    "\n",
    "# Data memory usage\n",
    "print(sum(activeDataSet.memory_usage(index=False, deep=True))/1000)"
   ]
  },
  {
   "cell_type": "markdown",
   "metadata": {},
   "source": [
    "The Wikis will be the nodes of our network, however we need to connect these nodes. We will do this by finding multiple user profiles and connecting all the wikis which the individual user is active in. The users will thereby create small cliques, that in the end will give a knowledge over which wikis are the most connected."
   ]
  },
  {
   "cell_type": "code",
   "execution_count": null,
   "metadata": {
    "collapsed": true
   },
   "outputs": [],
   "source": [
    "# Methode that tage a string representing a list and makes it into a list\n",
    "def makeStringToList(string):\n",
    "    if string == \"[]\":\n",
    "        return []\n",
    "    string = string.replace(\"['\",\"\")\n",
    "    string = string.replace(\"']\",\"\")\n",
    "    \n",
    "    # Some Wikis have '_' instead og ' ', which needs to be replaced. \n",
    "    string = string.replace(\"_\",\" \")\n",
    "    listCreated = string.split(\"', '\")\n",
    "    return listCreated"
   ]
  },
  {
   "cell_type": "code",
   "execution_count": null,
   "metadata": {
    "collapsed": true
   },
   "outputs": [],
   "source": [
    "### Get Users from user-wikis ###\n",
    "users = {}\n",
    "\n",
    "# Open file\n",
    "filename = \"data/users/user-wikis.txt\"\n",
    "f = open(filename, \"r\")\n",
    "\n",
    "# Read content and create dircetory of wikis the users are active in\n",
    "for line in f.read().splitlines():\n",
    "    user = line.split(': ')\n",
    "    if len(user) == 2:\n",
    "        if user[0] not in users:\n",
    "            users[user[0]] = []\n",
    "            \n",
    "        # Remove duplicates and add to the list\n",
    "        users[user[0]] = list(set(users[user[0]]+makeStringToList(user[1])))\n",
    "\n",
    "print(\"%s users have been found in user-wikis.txt\" % len(users))"
   ]
  },
  {
   "cell_type": "markdown",
   "metadata": {},
   "source": [
    "### Creating the network\n",
    "\n",
    "The network is going to be a undirected graph containing multilple cliques. The nodes will be the wikis with the attributes: Hub, allUsers and activeUsers according to the dataset, and usersOccurances, which is the number of times the wiki is mentioned in our user data: user-wikis.txt."
   ]
  },
  {
   "cell_type": "code",
   "execution_count": null,
   "metadata": {
    "collapsed": true
   },
   "outputs": [],
   "source": [
    "# Make graph\n",
    "G = nx.Graph()"
   ]
  },
  {
   "cell_type": "code",
   "execution_count": null,
   "metadata": {
    "collapsed": true
   },
   "outputs": [],
   "source": [
    "# Add nodes and attributes\n",
    "duplicate_name_node_count = 0\n",
    "for wiki in activeDataSet.T.items():\n",
    "    wiki = wiki[1]\n",
    "    name = wiki['name']\n",
    "    \n",
    "    # If wiki is NaN do not create node\n",
    "    if str(name) == \"nan\":\n",
    "        print(\"Do not add wiki if it is NaN (%s)\" % name)\n",
    "        continue\n",
    "    \n",
    "    # Make name fit wiki name in user-wikis.txt\n",
    "    name = name.replace(\"_\",\" \")\n",
    "\n",
    "    # Find hub value\n",
    "    hub = wiki['hub']\n",
    "    \n",
    "    # Find topic values\n",
    "    topic = ''\n",
    "    if str(wiki['topic']) != 'nan':\n",
    "        topic = wiki['topic']\n",
    "    \n",
    "    # Find user values\n",
    "    stats = ast.literal_eval(wiki['stats'])\n",
    "    allUsers = stats['users']\n",
    "    activeUsersStats = stats['activeUsers']\n",
    "    \n",
    "    # Count occurances in user-wikis.txt\n",
    "    usersOccurances = 0\n",
    "    for values in users.values():\n",
    "        for value in values:\n",
    "            if value == name:\n",
    "                usersOccurances+=1\n",
    "    \n",
    "    # Check if Wiki Name have a node\n",
    "    if name not in G.nodes():\n",
    "        # Create new node\n",
    "        G.add_node(name, \n",
    "                   hub=hub, \n",
    "                   topic=topic,\n",
    "                   allUsers=allUsers, \n",
    "                   activeUsers=activeUsersStats, \n",
    "                   usersOccurances=usersOccurances)\n",
    "    else:\n",
    "        # Update excisting node by merging new values\n",
    "        duplicate_name_node_count+=1\n",
    "        if hub not in G.node[name]['hub']:\n",
    "            G.node[name]['hub'] = G.node[name]['hub']+\", \"+hub\n",
    "        \n",
    "        if topic not in G.node[name]['topic']:\n",
    "            G.node[name]['topic'] = G.node[name]['topic']+\", \"+topic\n",
    "        \n",
    "        # Find average of the user numbers \n",
    "        # taking into account if one user is member of both Wikis\n",
    "        if G.node[name]['allUsers'] != allUsers:\n",
    "            G.node[name]['allUsers'] = str(int((int(G.node[name]['allUsers'])+int(allUsers))/2))  \n",
    "                                                                                                                                \n",
    "        if G.node[name]['activeUsers'] != activeUsersStats:\n",
    "            G.node[name]['activeUsers'] = str(int((int(G.node[name]['activeUsers'])+int(activeUsersStats))/2))  \n",
    "        \n",
    "        # If different number of occurances (should not happend), then return the sum\n",
    "        if G.node[name]['usersOccurances'] != usersOccurances:\n",
    "            G.node[name]['usersOccurances'] = str(int(G.node[name]['usersOccurances'])+int(usersOccurances)) \n",
    "\n",
    "print(\"Number of nodes added to the graph: %s,\\nNumber of nodes merged: %s,\\nNumber of wikis: %s\" % \n",
    "      (duplicate_name_node_count, len(G.nodes()), len(activeDataSet)))"
   ]
  },
  {
   "cell_type": "code",
   "execution_count": null,
   "metadata": {
    "collapsed": true
   },
   "outputs": [],
   "source": [
    "# Methodes that create edges between all wikis which share users (cliques)\n",
    "def createEdges(G,userWikis):\n",
    "    length = len(userWikis)\n",
    "    \n",
    "    # Check if it is the last wiki in the list\n",
    "    if length<=1:\n",
    "        return G\n",
    "    \n",
    "    # Resursive call\n",
    "    elif length>1:\n",
    "        wiki = userWikis.pop()\n",
    "        # Check wiki exsist in dataset\n",
    "        if wiki in G.nodes():\n",
    "             wikisNotInDataSet = []\n",
    "\n",
    "            # Create edges\n",
    "            for w in userWikis:\n",
    "                if w in G.nodes():\n",
    "                    if G.has_edge(wiki, w):\n",
    "                        G[wiki][w]['weight']+=1\n",
    "                    else:\n",
    "                        G.add_edge(wiki,w,weight=1)\n",
    "                else:\n",
    "                    wikisNotInDataSet.append(w) \n",
    "            # Remove wikis which are not a part of our dataset\n",
    "            if len(wikisNotInDataSet) > 0:\n",
    "                length = len(userWikis) \n",
    "                userWikis = list(set(userWikis) - set(wikisNotInDataSet))\n",
    "        return createEdges(G,userWikis)\n",
    "    else:\n",
    "        # Return final grph with edges\n",
    "        return G"
   ]
  },
  {
   "cell_type": "code",
   "execution_count": null,
   "metadata": {
    "collapsed": true
   },
   "outputs": [],
   "source": [
    "# iterate over all users\n",
    "for k,v in users.items():\n",
    "    # Create cliques between wiki nodes when user follows them\n",
    "    G = createEdges(G,set(v))\n",
    "\n",
    "# Discover number of edges\n",
    "print(\"Number of edges added to the graph: %s\" % len(G.edges()))"
   ]
  },
  {
   "cell_type": "markdown",
   "metadata": {},
   "source": [
    "### Draw network in graph colored by the hub type\n",
    "The graph contains the nodes and edges. For one to understand the graph it is interesting to draw the graph"
   ]
  },
  {
   "cell_type": "code",
   "execution_count": null,
   "metadata": {
    "collapsed": true
   },
   "outputs": [],
   "source": [
    "# Set layout\n",
    "forceatlas2 = ForceAtlas2(\n",
    "                          # Behavior alternatives\n",
    "                          outboundAttractionDistribution=False,  # Dissuade hubs\n",
    "                          linLogMode=False,  # NOT IMPLEMENTED\n",
    "                          adjustSizes=False,  # Prevent overlap (NOT IMPLEMENTED)\n",
    "                          edgeWeightInfluence=1,\n",
    "\n",
    "                          # Performance\n",
    "                          jitterTolerance=0.5,  #1 # Tolerance\n",
    "                          barnesHutOptimize=True,\n",
    "                          barnesHutTheta=1.2,\n",
    "                          multiThreaded=False,  # NOT IMPLEMENTED\n",
    "\n",
    "                          # Tuning\n",
    "                          scalingRatio=0.01, #0.01\n",
    "                          strongGravityMode=False, #False\n",
    "                          gravity=30, #15\n",
    "\n",
    "                          # Log\n",
    "                          verbose=True)\n",
    "\n",
    "\n",
    "# Calculate Positions\n",
    "positions = forceatlas2.forceatlas2_networkx_layout(G, pos=None, iterations=2000)"
   ]
  },
  {
   "cell_type": "code",
   "execution_count": null,
   "metadata": {
    "collapsed": true
   },
   "outputs": [],
   "source": [
    "# Divide wikis according to hub\n",
    "hubs = {}\n",
    "for n in G.nodes(): \n",
    "    # Set the node type to only be the initial hub mentioned\n",
    "    nodehub = G.node[n]['hub'].split(', ')[0]\n",
    "    \n",
    "    # Add hub to dirc\n",
    "    if nodehub not in hubs:\n",
    "        hubs[nodehub] = []\n",
    "    hubs[nodehub].append(n)\n",
    "\n",
    "# Print result\n",
    "summ = 0\n",
    "for k, v in hubs.items():\n",
    "    summ += len(v)\n",
    "    print(\"The hub %s has %s wikis from this dataSet\" % (k, len(v)))\n",
    "\n",
    "print(\"The sum of all are %s, which is the same as the %s number of nodes\" % (summ,len(G.nodes())))"
   ]
  },
  {
   "cell_type": "markdown",
   "metadata": {},
   "source": [
    "The graph can be drawn in multiple different ways. To make it easy the node-size-calculations have their own method"
   ]
  },
  {
   "cell_type": "code",
   "execution_count": null,
   "metadata": {
    "collapsed": true
   },
   "outputs": [],
   "source": [
    "# Calculate node size according to frequency\n",
    "def nodeSizeFrequency(nodeList):\n",
    "    size = []\n",
    "    for i in range(len(nodeList)):\n",
    "        if str(nodeList[i]) == \"nan\":\n",
    "            continue\n",
    "        activeUsers = int(G.nodes[nodeList[i]]['activeUsers'])\n",
    "        size.append(activeUsers)\n",
    "    return size"
   ]
  },
  {
   "cell_type": "code",
   "execution_count": null,
   "metadata": {
    "collapsed": true
   },
   "outputs": [],
   "source": [
    "# Calculate node size according to degree\n",
    "def nodeSizeDegree(nodeList):\n",
    "    return [G.degree(node, weight='weight') for node in nodeList]"
   ]
  },
  {
   "cell_type": "code",
   "execution_count": null,
   "metadata": {
    "collapsed": true
   },
   "outputs": [],
   "source": [
    "# Calculate node size according to occurances in user-wikis.txt\n",
    "def nodeSizeOccurances(nodeList):\n",
    "    size = []\n",
    "    for i in range(len(nodeList)):\n",
    "        if str(nodeList[i]) == \"nan\":\n",
    "            continue\n",
    "        usersOccurances = int(G.nodes[nodeList[i]]['usersOccurances'])*15  \n",
    "        size.append(usersOccurances)\n",
    "    return size"
   ]
  },
  {
   "cell_type": "markdown",
   "metadata": {},
   "source": [
    "To calculate the sizes and create a graph according to the different hubs, the method *createNodeSizes* was generated as well as *drawAndSaveGraph*. "
   ]
  },
  {
   "cell_type": "code",
   "execution_count": null,
   "metadata": {
    "collapsed": true
   },
   "outputs": [],
   "source": [
    "# Calculate node sized for all hubs according to a specific methode\n",
    "def createNodeSizes(sizeMethode, hubs, betweenness_centrality=None):\n",
    "    node_size = {}\n",
    "    for hub in hubs.keys():\n",
    "        if betweenness_centrality==None:\n",
    "            node_size[hub] = sizeMethode(hubs[hub])\n",
    "        else:\n",
    "            node_size[hub] = sizeMethode(hubs[hub], betweenness_centrality)\n",
    "    return node_size"
   ]
  },
  {
   "cell_type": "code",
   "execution_count": null,
   "metadata": {
    "collapsed": true
   },
   "outputs": [],
   "source": [
    "# Drawing and saving the graph with different colored hubs and nodesizes\n",
    "def drawAndSaveGraph(hight, width, G, positions, hubs, node_size, max_size_lable, grapgName):\n",
    "    # plot figure\n",
    "    plt.figure(figsize=(hight, width))  \n",
    "\n",
    "    labels = {}    \n",
    "    for k,v in hubs.items():\n",
    "        hub_sizes = node_size[k]\n",
    "        for i in range(len(v)):\n",
    "            if hub_sizes[i] > max_size_lable:\n",
    "                #set the node name as the key and the label as its value \n",
    "                labels[v[i]] = v[i]\n",
    "\n",
    "\n",
    "    node_label = [node for node in G.nodes()]\n",
    "    colors = ['red', 'brown', 'yellow', 'orange', 'lightgreen', 'green', 'lightblue', 'pink']\n",
    "    \n",
    "    j = 0\n",
    "    for hub in hubs.keys():\n",
    "        nx.draw_networkx_nodes(G, positions, nodelist=hubs[hub], node_size=node_size[hub],cmap=plt.get_cmap('jet'), node_color=colors[j], label=hub)\n",
    "        j+=1\n",
    "    \n",
    "    nx.draw_networkx_edges(G, positions, width=0.1, cmap=plt.get_cmap('jet'), edge_color=\"gray\")\n",
    "    nx.draw_networkx_labels(G, positions, labels=labels, font_size=19, font_color='k', font_weight='bold', alpha=2.0)\n",
    "\n",
    "    plt.legend(numpoints = 1)\n",
    "    plt.title(grapgName)\n",
    "    #texts = [plt.text(n, labels[n], ha='center', va='center') for n in G.nodes()]\n",
    "    #adjust_text(texts)#, only_move='y', arrowprops=dict(arrowstyle=\"->\", color='r', lw=0.5))\n",
    "    plt.axis('off')\n",
    "    plt.savefig('graphs/'+grapgName+'.png')\n",
    "    plt.show()"
   ]
  },
  {
   "cell_type": "markdown",
   "metadata": {},
   "source": [
    "**Now lets see the graphs!**\n",
    "\n",
    "There are three graphs in the following code blocks:\n",
    " * Graph with node size according to degree\n",
    " * Graph with node size according to the number of times a user from our dataset follows the wikis\n",
    " * Graph with node size according to the number of active users given in the wikia dataset "
   ]
  },
  {
   "cell_type": "code",
   "execution_count": null,
   "metadata": {
    "collapsed": true
   },
   "outputs": [],
   "source": [
    "node_size = createNodeSizes(nodeSizeDegree, hubs) \n",
    "for k,v in node_size.items():\n",
    "    print(k, max(v), min(v), np.average(v))\n",
    "\n",
    "drawAndSaveGraph(18, 16, G, positions, hubs, node_size, 270, 'wikiNetworkDegree')"
   ]
  },
  {
   "cell_type": "markdown",
   "metadata": {},
   "source": [
    "The above graph is a we expect. The nodes close to the middel are larger, than the ones at the edge. The largest and thereby those with the most degrees are are the nodes: \n",
    "* Hypnosis Mic Wiki (Music)\n",
    "* Miss Rose Wiki (TV)\n",
    "* Cousins for Life Wiki (TV)\n",
    "All nodes have a degree (with weight) above 270"
   ]
  },
  {
   "cell_type": "code",
   "execution_count": null,
   "metadata": {
    "collapsed": true
   },
   "outputs": [],
   "source": [
    "node_size = createNodeSizes(nodeSizeOccurances, hubs) \n",
    "for k,v in node_size.items():\n",
    "    print(k, max(v), min(v), np.average(v))\n",
    "\n",
    "drawAndSaveGraph(18, 16, G, positions, hubs, node_size, 600, 'wikiNetworkUserOccurances')"
   ]
  },
  {
   "cell_type": "markdown",
   "metadata": {},
   "source": [
    "The above graph is a we expect. The nodes close to the middel are larger, than the ones at the edge. The largest and thereby those with the most degrees are are the nodes: \n",
    "* Hypnosis Mic Wiki (Music)\n",
    "* Miss Rose Wiki (TV)\n",
    "* Cousins for Life Wiki (TV)\n",
    "All nodes have a degree (with weight) above 270"
   ]
  },
  {
   "cell_type": "code",
   "execution_count": null,
   "metadata": {
    "collapsed": true
   },
   "outputs": [],
   "source": [
    "node_size = createNodeSizes(nodeSizeFrequency, hubs) \n",
    "for k,v in node_size.items():\n",
    "    print(k, max(v), min(v), np.average(v))\n",
    "\n",
    "drawAndSaveGraph(18, 16, G, positions, hubs, node_size, 760, 'wikiNetworkUserFrequency')"
   ]
  },
  {
   "cell_type": "markdown",
   "metadata": {},
   "source": [
    "## 3 Tools, theory and analysis\n",
    "\n",
    "Talk about how you've worked with text, including regular expressions, unicode, etc.\n",
    "Describe which network science tools and data analysis strategies you've used, how those network science measures work, and why the tools you've chosen are right for the problem you're solving.\n",
    "How did you use the tools to understand your dataset?\n",
    "\n",
    "\n",
    "I envision Part 3: **Tools, theory and analysis** as the central part of the assignment, where you basically go through the steps in the analysis. So the structure of this part would be something like\n",
    "\n",
    "* Explain the overall idea\n",
    "* Analysis step 1\n",
    "    * explain what you're interested in\n",
    "    * explain the tool\n",
    "    * apply the tool\n",
    "    * discuss the outcome"
   ]
  },
  {
   "cell_type": "markdown",
   "metadata": {
    "collapsed": true
   },
   "source": [
    "### 3.1 Degree Distributions"
   ]
  },
  {
   "cell_type": "code",
   "execution_count": 41,
   "metadata": {
    "collapsed": true
   },
   "outputs": [],
   "source": [
    "def createHistigram(ylable, xlable, title, fileName, hubsDegree, bins):\n",
    "    # Create Bin Histogram \n",
    "    plt.figure(figsize=(15, 8))  \n",
    "    plt.style.use('seaborn-deep')\n",
    "    \n",
    "    maxDegree = 0\n",
    "    for v in hubsDegree.values():\n",
    "        if max(v)>maxDegree:\n",
    "            maxDegree = max(v)\n",
    "    bins = np.linspace(0, maxDegree, bins)\n",
    "\n",
    "    plt.hist(list(hubsDegree.values()), \n",
    "         bins, \n",
    "         label=list(hubsDegree.keys()), \n",
    "         histtype='bar',\n",
    "         edgecolor='black')\n",
    "    \n",
    "    plt.rcParams.update({'font.size': 20})\n",
    "    plt.legend(loc='upper right')\n",
    "    plt.tight_layout()\n",
    "    plt.title(title)\n",
    "    plt.ylabel(ylable)\n",
    "    plt.xlabel(xlable)\n",
    "    plt.savefig('graphs/'+fileName+'.png')\n",
    "    plt.show()"
   ]
  },
  {
   "cell_type": "code",
   "execution_count": null,
   "metadata": {
    "collapsed": true
   },
   "outputs": [],
   "source": [
    "# Data\n",
    "degrees = {}\n",
    "degrees['all wikis'] = [val for (node, val) in G.degree()]\n",
    "\n",
    "createHistigram(\"Wikias\", \n",
    "                \"Number of common users\", \n",
    "                \"Degree Distribution without weight\", \n",
    "                \"wikiDegreeSumHist\", \n",
    "                degrees,\n",
    "                100)"
   ]
  },
  {
   "cell_type": "code",
   "execution_count": null,
   "metadata": {
    "collapsed": true
   },
   "outputs": [],
   "source": [
    "# Data\n",
    "degrees = {}\n",
    "degrees['all wikis'] = [val for (node, val) in G.degree() if val>1]\n",
    "\n",
    "createHistigram(\"Wikias\", \n",
    "                \"Number of common users\", \n",
    "                \"Degree Distribution without weight with larger degree than 1\", \n",
    "                \"wikiDegreelarger1SumHist\", \n",
    "                degrees,\n",
    "                100)"
   ]
  },
  {
   "cell_type": "code",
   "execution_count": null,
   "metadata": {
    "collapsed": true
   },
   "outputs": [],
   "source": [
    "# Data\n",
    "degrees = {}\n",
    "degrees['all wikis'] = [val for (node, val) in G.degree(weight='weight')]\n",
    "\n",
    "createHistigram(\"Wikias\", \n",
    "                \"Number of common users\", \n",
    "                \"Degree Distribution with weight\", \n",
    "                \"wikiDegreeSumWeightHist\", \n",
    "                degrees,\n",
    "                100)"
   ]
  },
  {
   "cell_type": "code",
   "execution_count": null,
   "metadata": {
    "collapsed": true
   },
   "outputs": [],
   "source": [
    "# Data\n",
    "degrees = {}\n",
    "degrees['all wikis'] = [val for (node, val) in G.degree(weight='weight') if val>1]\n",
    "\n",
    "createHistigram(\"Wikias\", \n",
    "                \"Number of common users\", \n",
    "                \"Degree Distribution with weight and larger degree than 1\", \n",
    "                \"wikiDegreeSumlarger1WeightHist\", \n",
    "                degrees,\n",
    "                100)"
   ]
  },
  {
   "cell_type": "code",
   "execution_count": null,
   "metadata": {
    "collapsed": true
   },
   "outputs": [],
   "source": [
    "hubsDegree = createNodeSizes(nodeSizeDegree, hubs)\n",
    "createHistigram(\"Wikias\", \n",
    "                \"Number of common users\", \n",
    "                \"Degree Distribution between hubs with weight\", \n",
    "                \"wikiDegreeWeightHist\", \n",
    "                hubsDegree, \n",
    "                10)"
   ]
  },
  {
   "cell_type": "code",
   "execution_count": null,
   "metadata": {
    "collapsed": true
   },
   "outputs": [],
   "source": [
    "hubsDegreefilter = {}\n",
    "for k,v in hubsDegree.items():\n",
    "    hubsDegreefilter[k] = list(filter(lambda a: a > 2, v))\n",
    "\n",
    "createHistigram(\"Wikias\", \n",
    "                \"Number of common users\", \n",
    "                \"Degree Distribution between hubs wit weight and larger degree than 2\", \n",
    "                \"wikiDegreelarger2WeightHist\", \n",
    "                hubsDegreefilter, \n",
    "                10)"
   ]
  },
  {
   "cell_type": "code",
   "execution_count": null,
   "metadata": {
    "collapsed": true
   },
   "outputs": [],
   "source": [
    "def createCumulativeHistigram(ylable, xlable, title, fileName, hubsDegree):\n",
    "    \n",
    "    # Create Cumulative Step Histogram \n",
    "    plt.figure(figsize=(12, 3))  \n",
    "    plt.style.use('seaborn-deep')\n",
    "    \n",
    "    maxDegree = 0\n",
    "    for v in hubsDegree.values():\n",
    "        if max(v)>maxDegree:\n",
    "            maxDegree = max(v)\n",
    "    bins = np.linspace(0, maxDegree, 30)\n",
    "\n",
    "    plt.hist(list(hubsDegree.values()), \n",
    "         bins, \n",
    "         label=list(hubsDegree.keys()), \n",
    "         histtype='step', \n",
    "         cumulative=True)\n",
    "    #patch.linewidth\n",
    "\n",
    "    plt.rcParams.update({'font.size': 20})\n",
    "    plt.legend(loc='upper right')\n",
    "    plt.tight_layout()\n",
    "    plt.title(title)\n",
    "    plt.ylabel(ylable)\n",
    "    plt.xlabel(xlable)\n",
    "    plt.savefig('graphs/'+fileName+'.png')\n",
    "    plt.show()"
   ]
  },
  {
   "cell_type": "code",
   "execution_count": null,
   "metadata": {
    "collapsed": true
   },
   "outputs": [],
   "source": [
    "createCumulativeHistigram(\"Wikias\", \n",
    "                          \"Number of common users\", \n",
    "                          \"Degree Distribution between hubs without weight\", \n",
    "                          \"wikiDegreeCumulativeHist\", \n",
    "                          hubsDegree)"
   ]
  },
  {
   "cell_type": "markdown",
   "metadata": {
    "collapsed": true
   },
   "source": [
    "**Log-Log Degree Distribution**"
   ]
  },
  {
   "cell_type": "code",
   "execution_count": null,
   "metadata": {
    "collapsed": true
   },
   "outputs": [],
   "source": [
    "degrees = [val for (node, val) in G.degree(weight='weight')]"
   ]
  },
  {
   "cell_type": "code",
   "execution_count": null,
   "metadata": {
    "collapsed": true
   },
   "outputs": [],
   "source": [
    "fig, axs = plt.subplots(ncols=2, figsize=(20, 5))\n",
    "\n",
    "#Find and print min/max\n",
    "print(\"Max degree is %s\\nMin degree is %s\" % (max(degrees), min(degrees)))\n",
    "\n",
    "# Find bins and hist\n",
    "hist, binList = np.histogram(degrees, max(degrees))\n",
    "bins = (binList[1:]+binList[:-1])/2\n",
    "\n",
    "#Generate linear plot\n",
    "axs[0].plot(bins,hist, 'o', mfc='none')\n",
    "axs[0].set_ylabel('Number of Wikis')\n",
    "axs[0].set_xlabel('Number of degrees')\n",
    "axs[0].set_title(\"Linear\")\n",
    "\n",
    "\n",
    "#Generate log-log plot\n",
    "axs[1].loglog(bins,hist, 'o', mfc='none')\n",
    "axs[1].set_ylabel('Number of Wikis')\n",
    "axs[1].set_xlabel('Number of degrees')\n",
    "axs[1].set_title(\"Log transformed\")\n",
    "\n",
    "fig.suptitle(\"Degree Distributions\")\n",
    "plt.savefig('graphs/LogDegreeDistribution.png')\n",
    "plt.show()\n"
   ]
  },
  {
   "cell_type": "markdown",
   "metadata": {
    "collapsed": true
   },
   "source": [
    "### 3.2 Compare to random Graph"
   ]
  },
  {
   "cell_type": "code",
   "execution_count": null,
   "metadata": {
    "collapsed": true
   },
   "outputs": [],
   "source": [
    "degrees = [val for (node, val) in G.degree()]\n",
    "\n",
    "n = len(G.nodes())\n",
    "k = int(round(np.average(degrees)))\n",
    "m = 3\n",
    "seed = None\n",
    "\n",
    "# Create Randam graph\n",
    "G_random = nx.watts_strogatz_graph(n,k , 1)\n",
    "degrees_random = [val for (node, val) in G_random.degree(weight='weight')]\n",
    "\n",
    "# Create BA Graph\n",
    "G_ba= nx.barabasi_albert_graph(n, m, seed=seed)\n",
    "degrees_ba = [val for (node, val) in G_ba.degree(weight='weight')]"
   ]
  },
  {
   "cell_type": "code",
   "execution_count": null,
   "metadata": {
    "collapsed": true
   },
   "outputs": [],
   "source": [
    "fig, axs = plt.subplots(ncols=2, figsize=(20, 8))\n",
    "\n",
    "#Find and print min/max\n",
    "print(\"Our: Number of nodes %s, Number of edges %s, Max degree is %s, Min degree is %s\" % \n",
    "      (len(G.nodes()), len(G.edges()), max(degrees), min(degrees)))\n",
    "print(\"BA:  Number of nodes %s, Number of edges %s, Max degree is %s, Min degree is %s\" % \n",
    "      (len(G_ba.nodes()), len(G_ba.edges()), max(degrees_ba), min(degrees_ba)))\n",
    "print(\"Ran: Number of nodes %s, Number of edges %s, Max degree is %s, Min degree is %s\" % \n",
    "      (len(G_random.nodes()), len(G_random.edges()), max(degrees_random), min(degrees_random)))\n",
    "\n",
    "#### Our graph ###\n",
    "hist, binList = np.histogram(degrees, max(degrees))\n",
    "bins = (binList[1:]+binList[:-1])/2\n",
    "\n",
    "dot1, = axs[0].plot(bins,hist, 'o', mfc='none')\n",
    "dotlog1, = axs[1].loglog(bins,hist, 'o', mfc='none')\n",
    "\n",
    "#### Random graph ###\n",
    "hist, binList = np.histogram(degrees_ba, max(degrees_ba))\n",
    "bins = (binList[1:]+binList[:-1])/2\n",
    "\n",
    "dot2, = axs[0].plot(bins,hist, 'o', mfc='none')\n",
    "dotlog2, = axs[1].loglog(bins,hist, 'o', mfc='none')\n",
    "\n",
    "\n",
    "#### BA graph ###\n",
    "hist, binList = np.histogram(degrees_random, max(degrees_random))\n",
    "bins = (binList[1:]+binList[:-1])/2\n",
    "\n",
    "dot3, = axs[0].plot(bins,hist, 'o', mfc='none')\n",
    "dotlog3, = axs[1].loglog(bins,hist, 'o', mfc='none')\n",
    "\n",
    "\n",
    "# finishing touches\n",
    "axs[0].legend([dot1, dot2, dot3], [\"Fandom Wikis\", \"BA\",\"Random\"])\n",
    "axs[0].set_ylabel('Number of Wikis')\n",
    "axs[0].set_xlabel('Number of degrees')\n",
    "axs[0].set_title(\"Linear\")\n",
    "\n",
    "axs[1].legend([dotlog1, dotlog2, dotlog3], [\"Fandom Wikis\", \"BA\",\"Random\"])\n",
    "axs[1].set_ylabel('Number of Wikis')\n",
    "axs[1].set_xlabel('Number of degrees')\n",
    "axs[1].set_title(\"Log transformed\")\n",
    "\n",
    "fig.suptitle(\"Comparison of Degree Distributions\")\n",
    "plt.savefig('graphs/DegreeDistributionComparison.png')\n",
    "plt.show()\n"
   ]
  },
  {
   "cell_type": "markdown",
   "metadata": {
    "collapsed": true
   },
   "source": [
    "### 3.3 Shortest Path Length"
   ]
  },
  {
   "cell_type": "code",
   "execution_count": null,
   "metadata": {
    "collapsed": true
   },
   "outputs": [],
   "source": [
    "connected_graphs = []\n",
    "for i in range(1,7):\n",
    "    connected_graphs.append([c for c in nx.connected_component_subgraphs(G) if len(c)==i])\n",
    "connected_graphs.append([c for c in nx.connected_component_subgraphs(G) if len(c)>6])\n",
    "connected_graphs\n",
    "\n",
    "print(\"The overall network contains:\")\n",
    "for graphList in connected_graphs:\n",
    "    print(\" - %s nodes per graph, total amount of graphs %s, with average shortest path len %s\" % \n",
    "        (len(graphList[0].nodes()), #np.average([len(g.nodes()) for g in graphList]),\n",
    "         len(graphList),\n",
    "         np.average([nx.average_shortest_path_length(x) for x in graphList])))\n",
    "\n",
    "print(\"The average shortest path length for graph BA (nodes: %s) is %s\" % \n",
    "      (len(G_ba.nodes()),\n",
    "       nx.average_shortest_path_length(G_ba)))\n",
    "print(\"The average shortest path length for graph Random (nodes: %s) is %s\" %\n",
    "      (len(G_random.nodes()),\n",
    "       nx.average_shortest_path_length(G_random)))"
   ]
  },
  {
   "cell_type": "markdown",
   "metadata": {
    "collapsed": true
   },
   "source": [
    "### 3.4 Centralities"
   ]
  },
  {
   "cell_type": "code",
   "execution_count": null,
   "metadata": {
    "collapsed": true
   },
   "outputs": [],
   "source": [
    "current_time = time.time()\n",
    "betweenness_centrality = nx.betweenness_centrality(G, weight='weight')\n",
    "print(hub, time.time()-current_time)\n",
    "betweenness_centrality"
   ]
  },
  {
   "cell_type": "code",
   "execution_count": null,
   "metadata": {
    "collapsed": true
   },
   "outputs": [],
   "source": [
    "# Calculate node size according to Betweeness Centrality\n",
    "def nodeSizeBetweennessCentrality(nodeList, betweenness_centrality):\n",
    "    return [betweenness_centrality[node]*100000 for node in nodeList]\n",
    "\n",
    "node_size = createNodeSizes(nodeSizeBetweennessCentrality, hubs, betweenness_centrality) \n",
    "\n",
    "for k,v in node_size.items():\n",
    "    print(k, max(v), min(v), np.average(v))\n",
    "\n",
    "drawAndSaveGraph(18, 16, G, positions, hubs, node_size, 500, 'wikiNetworkBetweenessCentrality')"
   ]
  },
  {
   "cell_type": "code",
   "execution_count": null,
   "metadata": {
    "collapsed": true
   },
   "outputs": [],
   "source": [
    "# Calculate node size according to Eigenvector Centrality\n",
    "def nodeSizeEigenvectorCentrality(nodeList):\n",
    "    eigenvector_centrality = nx.eigenvector_centrality_numpy(G, weight='weight')\n",
    "    return [eigenvector_centrality[node]*5000 for node in nodeList]\n",
    "\n",
    "\n",
    "node_size = createNodeSizes(nodeSizeEigenvectorCentrality, hubs) \n",
    "\n",
    "for k,v in node_size.items():\n",
    "    print(k, max(v), min(v), np.average(v))\n",
    "\n",
    "drawAndSaveGraph(18, 16, G, positions, hubs, node_size, 516, 'wikiNetworkEigenvectorCentrality')"
   ]
  },
  {
   "cell_type": "markdown",
   "metadata": {
    "collapsed": true
   },
   "source": [
    "### 3.5 Communities + matrix"
   ]
  },
  {
   "cell_type": "code",
   "execution_count": null,
   "metadata": {
    "collapsed": true
   },
   "outputs": [],
   "source": [
    "G_connected = connected_graphs[6][0]\n",
    "\n",
    "#Community partitions\n",
    "partition = cm.best_partition(G_connected)\n",
    "\n",
    "#Modularity\n",
    "mod = cm.modularity(partition, G_connected)\n",
    "print('Modularity using the Louvain algorithm:', mod)\n",
    "\n",
    "fig = plt.figure(figsize=(15, 15))\n",
    "\n",
    "colors = np.asarray(['#104E8B','#EE2C2C','#db3aAA','#EEC900','#32BBAA',\n",
    "                     '#4020AA','#084c61','#407058','#6495ED','#C1FFC1',\n",
    "                     '#8b104e','#4e8b10','#bd861e','#901c5c','#b68bb2',\n",
    "                     '#57235a','#8517b6','#8f7cce','#5628ee','#708dae',\n",
    "                     '#70a6ae','#26b0a5','#0f9440','#948e0f','#dd8e3f'])\n",
    "i = 0\n",
    "for com in set(partition.values()):\n",
    "    list_nodes = [nodes for nodes in partition.keys() if partition[nodes] == com]\n",
    "    \n",
    "    nodes = [nodes for nodes in list_nodes]\n",
    "\n",
    "    if len(list_nodes)>5: \n",
    "        color = colors[i]\n",
    "        i += 1\n",
    "    else: \n",
    "        color = \"#97FFFF\"\n",
    "\n",
    "    nx.draw_networkx_nodes(G_connected, positions, nodes, node_size = 75, node_color = color, label=com)\n",
    "\n",
    "plt.legend(numpoints = 1)\n",
    "nx.draw_networkx_edges(G_connected, positions, width = 0.2, alpha=0.5, edge_color='gray')\n",
    "plt.axis('off')\n",
    "plt.savefig('graphs/communities.png')\n",
    "plt.show()"
   ]
  },
  {
   "cell_type": "code",
   "execution_count": null,
   "metadata": {
    "collapsed": true
   },
   "outputs": [],
   "source": [
    "#  Define a community size function to sort the community by size computing the confusion matrix.\n",
    "def community_Size(com):\n",
    "    list_nodes = [nodes for nodes in partition.keys()\n",
    "                                if partition[nodes] == com]\n",
    "    return len(list_nodes)"
   ]
  },
  {
   "cell_type": "code",
   "execution_count": null,
   "metadata": {
    "collapsed": true
   },
   "outputs": [],
   "source": [
    "D = np.zeros((len(hubs), len(set(partition.values()))),dtype = int) # Define the matrix\n",
    "sorted_partition = sorted(set(partition.values()), key = community_Size, reverse =True)\n",
    "\n",
    "i=0 # Set a count\n",
    "for com in sorted_partition:  # Go through the partition\n",
    "    j = 0\n",
    "    hub_node = {}\n",
    "    for key in hubs.keys():\n",
    "        hub_node[key] = [node for node in partition.keys() \n",
    "                           if partition[node] == com and key in G.node[node][\"hub\"]]\n",
    "\n",
    "        D[j,i]=len(hub_node[key]) # line 0 corresponds to the republicans\n",
    "        j+=1\n",
    "    i+=1"
   ]
  },
  {
   "cell_type": "code",
   "execution_count": null,
   "metadata": {
    "collapsed": true
   },
   "outputs": [],
   "source": [
    "fig = plt.figure(figsize=(12, 8))\n",
    "\n",
    "im= plt.imshow(D, cmap=pltcm.Blues)\n",
    "plt.title(\"Full confusion matrix compared with hubs\")\n",
    "plt.yticks([i for i in range(len(hubs.keys()))], hubs.keys(), rotation='horizontal')\n",
    "plt.xticks([i for i in range(len(sorted_partition))], sorted_partition, rotation='horizontal')\n",
    "plt.ylabel(\"Hubs\")\n",
    "plt.xlabel(\"Communities\")\n",
    "\n",
    "fig.colorbar(im, orientation = \"horizontal\", pad=0.2)\n",
    "plt.savefig('graphs/Matrix_hub.png')\n",
    "plt.show()"
   ]
  },
  {
   "cell_type": "code",
   "execution_count": null,
   "metadata": {
    "collapsed": true
   },
   "outputs": [],
   "source": [
    "#set([G.node[n]['topic'] for n in G.nodes()])"
   ]
  },
  {
   "cell_type": "code",
   "execution_count": null,
   "metadata": {
    "collapsed": true
   },
   "outputs": [],
   "source": [
    "D_hub = np.zeros((len(hubs),1)) # Define the matrix\n",
    "\n",
    "i=0 # Set a count\n",
    "hub_node={}\n",
    "for h in hubs.keys():\n",
    "    hub_node[h] = [node for node in G_connected.nodes() \n",
    "                           if h in G_connected.node[node][\"hub\"]]\n",
    "\n",
    "    D_hub[i,0]=len(hub_node[h]) # line 0 corresponds to the republicans\n",
    "    i+=1"
   ]
  },
  {
   "cell_type": "code",
   "execution_count": null,
   "metadata": {
    "collapsed": true
   },
   "outputs": [],
   "source": [
    "fig = plt.figure(figsize=(12, 8))\n",
    "im= plt.imshow(D_hub, cmap=pltcm.Blues)\n",
    "plt.title(\"Distribution of wikis\\nin hubs\")\n",
    "plt.yticks([i for i in range(len(hubs.keys()))], hubs.keys(), rotation='horizontal')\n",
    "plt.xticks([0], ['Distribution'], rotation='horizontal')\n",
    "plt.ylabel(\"Hubs\")\n",
    "\n",
    "fig.colorbar(im, orientation = \"vertical\", pad=0.05)\n",
    "plt.savefig('graphs/Matrix_hub_distribution.png')\n",
    "plt.show()"
   ]
  },
  {
   "cell_type": "code",
   "execution_count": null,
   "metadata": {
    "collapsed": true
   },
   "outputs": [],
   "source": [
    "topics = [t for t in set(activeDataSet['topic']) if str(t) != 'nan']\n",
    "topics.append('')\n",
    "\n",
    "D = np.zeros((len(topics), len(set(partition.values()))),dtype = int) # Define the matrix\n",
    "\n",
    "i=0 # Set a count\n",
    "for com in sorted_partition:  # Go through the partition\n",
    "    \n",
    "    j = 0\n",
    "    topic_node = {}\n",
    "    for t in topics:\n",
    "        if t != '':\n",
    "            topic_node[t] = [node for node in partition.keys() \n",
    "                               if partition[node] == com and t in G.node[node][\"topic\"]]\n",
    "        else:\n",
    "            topic_node[t] = [node for node in partition.keys() \n",
    "                               if partition[node] == com and t == G.node[node][\"topic\"]]\n",
    "\n",
    "        D[j,i]=len(topic_node[t]) # line 0 corresponds to the republicans\n",
    "        j+=1\n",
    "    i+=1"
   ]
  },
  {
   "cell_type": "code",
   "execution_count": null,
   "metadata": {
    "collapsed": true
   },
   "outputs": [],
   "source": [
    "fig = plt.figure(figsize=(15, 15))\n",
    "\n",
    "im= plt.imshow(D, cmap=pltcm.Blues)\n",
    "plt.title(\"Full confusion matrix compared with topics\")\n",
    "plt.yticks([i for i in range(len(topics))], topics, rotation='horizontal')\n",
    "plt.xticks([i for i in range(len(sorted_partition))], sorted_partition, rotation='horizontal')\n",
    "plt.ylabel(\"Topics\")\n",
    "plt.xlabel(\"Communities\")\n",
    "\n",
    "fig.colorbar(im, orientation = \"vertical\", pad=0.05)\n",
    "plt.savefig('graphs/Matrix_topic.png')\n",
    "plt.show()"
   ]
  },
  {
   "cell_type": "code",
   "execution_count": null,
   "metadata": {
    "collapsed": true
   },
   "outputs": [],
   "source": [
    "D_topic = np.zeros((len(topics),1)) # Define the matrix\n",
    "\n",
    "i=0 # Set a count\n",
    "topic_node = {}\n",
    "for t in topics:\n",
    "    if t != '':\n",
    "        topic_node[t] = [node for node in G_connected.nodes() \n",
    "                            if t in G_connected.node[node][\"topic\"]]\n",
    "    else:\n",
    "        topic_node[t] = [node for node in G_connected.nodes() \n",
    "                            if t == G_connected.node[node][\"topic\"]]\n",
    "\n",
    "    D_topic[i,0]=len(topic_node[t]) # line 0 corresponds to the republicans\n",
    "    i+=1"
   ]
  },
  {
   "cell_type": "code",
   "execution_count": null,
   "metadata": {
    "collapsed": true
   },
   "outputs": [],
   "source": [
    "fig = plt.figure(figsize=(15, 15))\n",
    "\n",
    "im= plt.imshow(D_topic, cmap=pltcm.Blues)\n",
    "plt.title(\"Distribution of wikis\\nin topics\")\n",
    "plt.yticks([i for i in range(len(topics))], topics, rotation='horizontal')\n",
    "plt.xticks([0], ['Distribution'], rotation='horizontal')\n",
    "plt.ylabel(\"Topics\")\n",
    "\n",
    "fig.colorbar(im, orientation = \"vertical\", pad=0.05)\n",
    "plt.savefig('graphs/Matrix_topic_distribution.png')\n",
    "plt.show()"
   ]
  },
  {
   "cell_type": "markdown",
   "metadata": {
    "collapsed": true
   },
   "source": [
    "### 3.6 TF-IDF"
   ]
  },
  {
   "cell_type": "code",
   "execution_count": 50,
   "metadata": {},
   "outputs": [
    {
     "name": "stdout",
     "output_type": "stream",
     "text": [
      "\n",
      " data/articles/text_from_wikis/Books-articles-part-1.json\n",
      "250, 183, \n",
      " data/articles/text_from_wikis/Comics-articles-part-1.json\n",
      "250, 104, \n",
      " data/articles/text_from_wikis/Games-articles-part-1.json\n",
      "250, 87, 250, 250, 250, 250, 250, 250, 250, 198, \n",
      " data/articles/text_from_wikis/Lifestyle-articles-part-1.json\n",
      "250, 250, 174, \n",
      " data/articles/text_from_wikis/Movies-articles-part-1.json\n",
      "250, 158, \n",
      " data/articles/text_from_wikis/Music-articles-part-1.json\n",
      "192, \n",
      " data/articles/text_from_wikis/Other-articles-part-1.json\n",
      "10, \n",
      " data/articles/text_from_wikis/TV-articles-part-1.json\n",
      "250, 250, 250, 241, 88, "
     ]
    }
   ],
   "source": [
    "# Divide data into hubs\n",
    "hub_articles_wiki = {}\n",
    "hub_keys = ['TV', 'Music', 'Lifestyle', 'Books', 'Movies', 'Other', 'Games', 'Comics']\n",
    "\n",
    "## Get Article Data ##\n",
    "for dataPath in glob.glob(\"data/articles/text_from_wikis/*.json\"):\n",
    "    hub = 'Not found'\n",
    "    \n",
    "    # find files hub\n",
    "    for h in hub_keys:\n",
    "        if h in dataPath:\n",
    "            hub = h\n",
    "    \n",
    "    # initialise directory\n",
    "    if hub not in hub_articles_wiki:\n",
    "        print('\\n', dataPath)\n",
    "        hub_articles_wiki[hub] = {}\n",
    "    \n",
    "    # load file\n",
    "    with open(dataPath) as f:\n",
    "         text = json.loads(f.read())\n",
    "    \n",
    "    # merge dirctory wiki data into the hub directory.\n",
    "    hub_articles_wiki[hub].update(text)\n",
    "    \n",
    "    # control correct/all data\n",
    "    print(len(text), end=', ')"
   ]
  },
  {
   "cell_type": "code",
   "execution_count": 57,
   "metadata": {},
   "outputs": [
    {
     "name": "stdout",
     "output_type": "stream",
     "text": [
      "Books ['percy'] ['scary'] ['wwii'] 25\n",
      "Comics ['another'] ['comic'] ['canadian'] 25\n",
      "Games ['renesanční'] ['visitors'] ['cardfight'] 25\n",
      "Lifestyle ['logopedia'] ['otherkin'] ['brother'] 25\n",
      "Movies ['电影维基_wikia'] ['right'] ['comics'] 25\n",
      "Music ['music'] ['music'] [] 25\n",
      "Other ['soul'] ['community'] ['centrum'] 10\n",
      "TV ['radio'] ['中文電視大典'] ['greek'] 25\n"
     ]
    }
   ],
   "source": [
    "### Sort data ###\n",
    "\n",
    "# List of stop words, punctuation marks and unicode hex characters\n",
    "encodings = ['\\xef', '\\xe2', '\\xcc', '\\xe3', '\\xf0', 'i\\xe2', 't\\xe2', 'a\\xe2', 'it\\xe2', 's\\xe2', 'we\\xe2', 'and\\xe2', 'the\\xe2']\n",
    "uninteresting_common_words = ['one', 'also', 'first', 'time', 'however', 'wiki', 'wikia', 'back']\n",
    "stop_punct = set(stopwords.words('english')\n",
    "                 + list(string.punctuation) \n",
    "                 + get_stop_words('en')\n",
    "                 + encodings\n",
    "                 + uninteresting_common_words)\n",
    "\n",
    "# Tokenize the text in both files and filter the stopwords, punctuation marks and unicode hex characters\n",
    "tokenizer = RegexpTokenizer(r'\\w+')\n",
    "\n",
    "# Filter data\n",
    "hub_articles_wiki_filtered = {}\n",
    "for k,v in hub_articles_wiki.items():\n",
    "    # initialize filter\n",
    "    if k not in hub_articles_wiki_filtered:\n",
    "            hub_articles_wiki_filtered[k] = {}\n",
    "    \n",
    "    # find 25 wikis with wordcount abouve 500 in every hub\n",
    "    counter = 0\n",
    "    for wiki,text in v.items():\n",
    "        \n",
    "        # only take 25 wikis\n",
    "        if counter == 25:\n",
    "            break\n",
    "        \n",
    "        # Ensure wordcount greater than 500\n",
    "        if len(text)<500:\n",
    "            continue\n",
    "        \n",
    "        # remove links and make lower case\n",
    "        regx_list = ['(http|https):\\/\\/\\w*.\\w*\\/\\w*', '\\d']\n",
    "        for regx in regx_list:\n",
    "            text = re.sub(regx, '', text).lower()\n",
    "        \n",
    "        # tokenize data\n",
    "        filter_hub = tokenizer.tokenize(text)\n",
    "        \n",
    "        # remove words with length less than 3 and stop words, etc.\n",
    "        hub_articles_wiki_filtered[k][wiki] = [word for word in filter_hub if word not in stop_punct and len(word)>3]\n",
    "        \n",
    "        # add counter\n",
    "        counter += 1\n",
    "    \n",
    "    #First 1 element for the first 3 wikis in the filtered tokenized list for every hub\n",
    "    print(k, end=' ')\n",
    "    [print(hub_articles_wiki_filtered[k][wiki][:1], end=' ') for wiki in list(hub_articles_wiki_filtered[k].keys())[:3]]\n",
    "    print(len(hub_articles_wiki_filtered[k]))"
   ]
  },
  {
   "cell_type": "code",
   "execution_count": 58,
   "metadata": {},
   "outputs": [
    {
     "name": "stdout",
     "output_type": "stream",
     "text": [
      "Books 44972\n",
      "Comics 119362\n",
      "Games 124020\n",
      "Lifestyle 113392\n",
      "Movies 483795\n",
      "Music 104871\n",
      "Other 17289\n",
      "TV 208229\n"
     ]
    }
   ],
   "source": [
    "### Merge wikis together to hubs ###\n",
    "hub_articles = {}\n",
    "\n",
    "for k,v in hub_articles_wiki_filtered.items():\n",
    "    if k not in hub_articles:\n",
    "        hub_articles[k] = []\n",
    "    for wiki_text in v.values():\n",
    "        hub_articles[k] = hub_articles[k]+wiki_text\n",
    "    print(k, len(hub_articles[k]))"
   ]
  },
  {
   "cell_type": "markdown",
   "metadata": {},
   "source": [
    "Methods to calculate TF / IDF / TF-IDF"
   ]
  },
  {
   "cell_type": "code",
   "execution_count": 23,
   "metadata": {
    "collapsed": true
   },
   "outputs": [],
   "source": [
    "def calculateTF(wordList):\n",
    "    FD = nltk.FreqDist(wordList)\n",
    "    TF = []\n",
    "    n =  float(len(wordList))\n",
    "    for i in FD.most_common(len(FD)):\n",
    "        TF.append((i[0], float(i[1])/n))\n",
    "    return TF"
   ]
  },
  {
   "cell_type": "code",
   "execution_count": 24,
   "metadata": {
    "collapsed": true
   },
   "outputs": [],
   "source": [
    "def calculateIDF(documentList):\n",
    "    all_words = []\n",
    "    for dokument in documentList.values():\n",
    "        all_words = all_words + dokument\n",
    "        all_words = list(set(all_words))\n",
    "    \n",
    "    print('All words in every wiki: ',len(all_words))\n",
    "    \n",
    "    IDF = []\n",
    "    n = math.log(float(len(documentList)))\n",
    "    for word in all_words:\n",
    "        contains = sum(1 for dokument in documentList.values() if word in set(dokument))\n",
    "        IDF.append((word, (n / float(1 + contains))))\n",
    "        if len(IDF) % 500 == 0:\n",
    "            print(len(IDF), end=', ')\n",
    "\n",
    "    IDF.sort(key=lambda tup: tup[1],reverse=True)\n",
    "    return IDF"
   ]
  },
  {
   "cell_type": "code",
   "execution_count": 25,
   "metadata": {
    "collapsed": true
   },
   "outputs": [],
   "source": [
    "def calculateTF_IDF(TF_List, IDF_List):\n",
    "    TF_IDF = []\n",
    "    for TF in TF_List:\n",
    "        IDF = [idf[1] for idf in IDF_List if idf[0] == TF[0]]\n",
    "        TF_IDF.append((TF[0], TF[1]*IDF))\n",
    "    TF_IDF.sort(key=lambda tup: tup[1],reverse=True)\n",
    "    return TF_IDF"
   ]
  },
  {
   "cell_type": "markdown",
   "metadata": {},
   "source": [
    "#### TF-IDF for hub:\n",
    "hub = document"
   ]
  },
  {
   "cell_type": "code",
   "execution_count": 26,
   "metadata": {},
   "outputs": [
    {
     "name": "stdout",
     "output_type": "stream",
     "text": [
      "Books 487488 39111\n",
      "  [('world', 0.0026564756465800184), ('king', 0.0023467244321911515), ('later', 0.002303646448733097)]\n",
      "Comics 395784 28263\n",
      "  [('like', 0.0041209346512239), ('january', 0.0038253188607927555), ('blankslate', 0.0036156085137347646)]\n",
      "Games 220887 24118\n",
      "  [('game', 0.006600660066006601), ('like', 0.0025940865691507424), ('well', 0.002403944098113515)]\n",
      "Lifestyle 606784 78636\n",
      "  [('states', 0.005603311886931759), ('united', 0.0052473367788207995), ('shall', 0.0024819375593291846)]\n",
      "Movies 688205 36553\n",
      "  [('jedi', 0.007551528977557559), ('skywalker', 0.005597169448056901), ('sith', 0.004133942647902878)]\n",
      "Music 255651 24863\n",
      "  [('album', 0.012630500174065425), ('band', 0.010655150967529952), ('music', 0.005929959202193615)]\n",
      "Other 17289 6004\n",
      "  [('chocolate', 0.019376482156284344), ('milk', 0.008907397767366534), ('pages', 0.005032101336109665)]\n",
      "TV 930690 41314\n",
      "  [('doctor', 0.008154165189268177), ('later', 0.0037219697213895066), ('series', 0.0029719885246430066)]\n"
     ]
    }
   ],
   "source": [
    "# hub = docutment\n",
    "TF_hub = {}\n",
    "\n",
    "#Calculates the TF for each word\n",
    "for k,v in hub_articles.items():\n",
    "    TF_hub[k] = calculateTF(v)\n",
    "    \n",
    "    #The 3 words with the highest term frequency for both Democratic and Republican tweets:\n",
    "    print(k, len(hub_articles[k]), len(TF_hub[k]))\n",
    "    print(' ', TF_hub[k][:3])"
   ]
  },
  {
   "cell_type": "code",
   "execution_count": 27,
   "metadata": {},
   "outputs": [
    {
     "name": "stdout",
     "output_type": "stream",
     "text": [
      "All words in every wiki:  146791\n"
     ]
    },
    {
     "ename": "KeyboardInterrupt",
     "evalue": "",
     "output_type": "error",
     "traceback": [
      "\u001b[0;31m---------------------------------------------------------------------------\u001b[0m",
      "\u001b[0;31mKeyboardInterrupt\u001b[0m                         Traceback (most recent call last)",
      "\u001b[0;32m<ipython-input-27-3e7ce6824267>\u001b[0m in \u001b[0;36m<module>\u001b[0;34m()\u001b[0m\n\u001b[1;32m      2\u001b[0m \u001b[0;34m\u001b[0m\u001b[0m\n\u001b[1;32m      3\u001b[0m \u001b[0;31m#Calculates the IDF for each word\u001b[0m\u001b[0;34m\u001b[0m\u001b[0;34m\u001b[0m\u001b[0m\n\u001b[0;32m----> 4\u001b[0;31m \u001b[0mIDF_hub\u001b[0m \u001b[0;34m=\u001b[0m \u001b[0mcalculateIDF\u001b[0m\u001b[0;34m(\u001b[0m\u001b[0mhub_articles\u001b[0m\u001b[0;34m)\u001b[0m\u001b[0;34m\u001b[0m\u001b[0m\n\u001b[0m\u001b[1;32m      5\u001b[0m \u001b[0;34m\u001b[0m\u001b[0m\n\u001b[1;32m      6\u001b[0m     \u001b[0;31m#The 3 words with the highest inverse document frequency for both Democratic and Republican tweets:\u001b[0m\u001b[0;34m\u001b[0m\u001b[0;34m\u001b[0m\u001b[0m\n",
      "\u001b[0;32m<ipython-input-24-98343e68c63d>\u001b[0m in \u001b[0;36mcalculateIDF\u001b[0;34m(documentList)\u001b[0m\n\u001b[1;32m     10\u001b[0m     \u001b[0mn\u001b[0m \u001b[0;34m=\u001b[0m \u001b[0mmath\u001b[0m\u001b[0;34m.\u001b[0m\u001b[0mlog\u001b[0m\u001b[0;34m(\u001b[0m\u001b[0mfloat\u001b[0m\u001b[0;34m(\u001b[0m\u001b[0mlen\u001b[0m\u001b[0;34m(\u001b[0m\u001b[0mdocumentList\u001b[0m\u001b[0;34m)\u001b[0m\u001b[0;34m)\u001b[0m\u001b[0;34m)\u001b[0m\u001b[0;34m\u001b[0m\u001b[0m\n\u001b[1;32m     11\u001b[0m     \u001b[0;32mfor\u001b[0m \u001b[0mword\u001b[0m \u001b[0;32min\u001b[0m \u001b[0mall_words\u001b[0m\u001b[0;34m:\u001b[0m\u001b[0;34m\u001b[0m\u001b[0m\n\u001b[0;32m---> 12\u001b[0;31m         \u001b[0mcontains\u001b[0m \u001b[0;34m=\u001b[0m \u001b[0msum\u001b[0m\u001b[0;34m(\u001b[0m\u001b[0;36m1\u001b[0m \u001b[0;32mfor\u001b[0m \u001b[0mdokument\u001b[0m \u001b[0;32min\u001b[0m \u001b[0mdocumentList\u001b[0m\u001b[0;34m.\u001b[0m\u001b[0mvalues\u001b[0m\u001b[0;34m(\u001b[0m\u001b[0;34m)\u001b[0m \u001b[0;32mif\u001b[0m \u001b[0mword\u001b[0m \u001b[0;32min\u001b[0m \u001b[0mset\u001b[0m\u001b[0;34m(\u001b[0m\u001b[0mdokument\u001b[0m\u001b[0;34m)\u001b[0m\u001b[0;34m)\u001b[0m\u001b[0;34m\u001b[0m\u001b[0m\n\u001b[0m\u001b[1;32m     13\u001b[0m         \u001b[0mIDF\u001b[0m\u001b[0;34m.\u001b[0m\u001b[0mappend\u001b[0m\u001b[0;34m(\u001b[0m\u001b[0;34m(\u001b[0m\u001b[0mword\u001b[0m\u001b[0;34m,\u001b[0m \u001b[0;34m(\u001b[0m\u001b[0mn\u001b[0m \u001b[0;34m/\u001b[0m \u001b[0mfloat\u001b[0m\u001b[0;34m(\u001b[0m\u001b[0;36m1\u001b[0m \u001b[0;34m+\u001b[0m \u001b[0mcontains\u001b[0m\u001b[0;34m)\u001b[0m\u001b[0;34m)\u001b[0m\u001b[0;34m)\u001b[0m\u001b[0;34m)\u001b[0m\u001b[0;34m\u001b[0m\u001b[0m\n\u001b[1;32m     14\u001b[0m         \u001b[0;32mif\u001b[0m \u001b[0mlen\u001b[0m\u001b[0;34m(\u001b[0m\u001b[0mIDF\u001b[0m\u001b[0;34m)\u001b[0m \u001b[0;34m%\u001b[0m \u001b[0;36m500\u001b[0m \u001b[0;34m==\u001b[0m \u001b[0;36m0\u001b[0m\u001b[0;34m:\u001b[0m\u001b[0;34m\u001b[0m\u001b[0m\n",
      "\u001b[0;32m<ipython-input-24-98343e68c63d>\u001b[0m in \u001b[0;36m<genexpr>\u001b[0;34m(.0)\u001b[0m\n\u001b[1;32m     10\u001b[0m     \u001b[0mn\u001b[0m \u001b[0;34m=\u001b[0m \u001b[0mmath\u001b[0m\u001b[0;34m.\u001b[0m\u001b[0mlog\u001b[0m\u001b[0;34m(\u001b[0m\u001b[0mfloat\u001b[0m\u001b[0;34m(\u001b[0m\u001b[0mlen\u001b[0m\u001b[0;34m(\u001b[0m\u001b[0mdocumentList\u001b[0m\u001b[0;34m)\u001b[0m\u001b[0;34m)\u001b[0m\u001b[0;34m)\u001b[0m\u001b[0;34m\u001b[0m\u001b[0m\n\u001b[1;32m     11\u001b[0m     \u001b[0;32mfor\u001b[0m \u001b[0mword\u001b[0m \u001b[0;32min\u001b[0m \u001b[0mall_words\u001b[0m\u001b[0;34m:\u001b[0m\u001b[0;34m\u001b[0m\u001b[0m\n\u001b[0;32m---> 12\u001b[0;31m         \u001b[0mcontains\u001b[0m \u001b[0;34m=\u001b[0m \u001b[0msum\u001b[0m\u001b[0;34m(\u001b[0m\u001b[0;36m1\u001b[0m \u001b[0;32mfor\u001b[0m \u001b[0mdokument\u001b[0m \u001b[0;32min\u001b[0m \u001b[0mdocumentList\u001b[0m\u001b[0;34m.\u001b[0m\u001b[0mvalues\u001b[0m\u001b[0;34m(\u001b[0m\u001b[0;34m)\u001b[0m \u001b[0;32mif\u001b[0m \u001b[0mword\u001b[0m \u001b[0;32min\u001b[0m \u001b[0mset\u001b[0m\u001b[0;34m(\u001b[0m\u001b[0mdokument\u001b[0m\u001b[0;34m)\u001b[0m\u001b[0;34m)\u001b[0m\u001b[0;34m\u001b[0m\u001b[0m\n\u001b[0m\u001b[1;32m     13\u001b[0m         \u001b[0mIDF\u001b[0m\u001b[0;34m.\u001b[0m\u001b[0mappend\u001b[0m\u001b[0;34m(\u001b[0m\u001b[0;34m(\u001b[0m\u001b[0mword\u001b[0m\u001b[0;34m,\u001b[0m \u001b[0;34m(\u001b[0m\u001b[0mn\u001b[0m \u001b[0;34m/\u001b[0m \u001b[0mfloat\u001b[0m\u001b[0;34m(\u001b[0m\u001b[0;36m1\u001b[0m \u001b[0;34m+\u001b[0m \u001b[0mcontains\u001b[0m\u001b[0;34m)\u001b[0m\u001b[0;34m)\u001b[0m\u001b[0;34m)\u001b[0m\u001b[0;34m)\u001b[0m\u001b[0;34m\u001b[0m\u001b[0m\n\u001b[1;32m     14\u001b[0m         \u001b[0;32mif\u001b[0m \u001b[0mlen\u001b[0m\u001b[0;34m(\u001b[0m\u001b[0mIDF\u001b[0m\u001b[0;34m)\u001b[0m \u001b[0;34m%\u001b[0m \u001b[0;36m500\u001b[0m \u001b[0;34m==\u001b[0m \u001b[0;36m0\u001b[0m\u001b[0;34m:\u001b[0m\u001b[0;34m\u001b[0m\u001b[0m\n",
      "\u001b[0;31mKeyboardInterrupt\u001b[0m: "
     ]
    }
   ],
   "source": [
    "# hub = docutment\n",
    "\n",
    "#Calculates the IDF for each word\n",
    "IDF_hub = calculateIDF(hub_articles)\n",
    "\n",
    "    #The 3 words with the highest inverse document frequency for both Democratic and Republican tweets:\n",
    "print(k, end=' ')\n",
    "[print(IDF_hub[word]) for word in list(IDF_hub.values())[:3]]"
   ]
  },
  {
   "cell_type": "code",
   "execution_count": 59,
   "metadata": {},
   "outputs": [
    {
     "ename": "NameError",
     "evalue": "name 'IDF_hub' is not defined",
     "output_type": "error",
     "traceback": [
      "\u001b[0;31m---------------------------------------------------------------------------\u001b[0m",
      "\u001b[0;31mNameError\u001b[0m                                 Traceback (most recent call last)",
      "\u001b[0;32m<ipython-input-59-0211945935b0>\u001b[0m in \u001b[0;36m<module>\u001b[0;34m()\u001b[0m\n\u001b[1;32m      4\u001b[0m \u001b[0;31m#Calculates the TF-IDF for each word\u001b[0m\u001b[0;34m\u001b[0m\u001b[0;34m\u001b[0m\u001b[0m\n\u001b[1;32m      5\u001b[0m \u001b[0;32mfor\u001b[0m \u001b[0mk\u001b[0m\u001b[0;34m,\u001b[0m\u001b[0mv\u001b[0m \u001b[0;32min\u001b[0m \u001b[0mTF_hub\u001b[0m\u001b[0;34m.\u001b[0m\u001b[0mitems\u001b[0m\u001b[0;34m(\u001b[0m\u001b[0;34m)\u001b[0m\u001b[0;34m:\u001b[0m\u001b[0;34m\u001b[0m\u001b[0m\n\u001b[0;32m----> 6\u001b[0;31m     \u001b[0mTF_IDF\u001b[0m\u001b[0;34m[\u001b[0m\u001b[0mk\u001b[0m\u001b[0;34m]\u001b[0m \u001b[0;34m=\u001b[0m \u001b[0mcalculateTF_IDF\u001b[0m\u001b[0;34m(\u001b[0m\u001b[0mv\u001b[0m\u001b[0;34m,\u001b[0m \u001b[0mIDF_hub\u001b[0m\u001b[0;34m)\u001b[0m\u001b[0;34m\u001b[0m\u001b[0m\n\u001b[0m\u001b[1;32m      7\u001b[0m \u001b[0;34m\u001b[0m\u001b[0m\n\u001b[1;32m      8\u001b[0m     \u001b[0mprint\u001b[0m\u001b[0;34m(\u001b[0m\u001b[0mk\u001b[0m\u001b[0;34m,\u001b[0m \u001b[0mlen\u001b[0m\u001b[0;34m(\u001b[0m\u001b[0mTF_IDF\u001b[0m\u001b[0;34m[\u001b[0m\u001b[0mk\u001b[0m\u001b[0;34m]\u001b[0m\u001b[0;34m)\u001b[0m\u001b[0;34m)\u001b[0m\u001b[0;34m\u001b[0m\u001b[0m\n",
      "\u001b[0;31mNameError\u001b[0m: name 'IDF_hub' is not defined"
     ]
    }
   ],
   "source": [
    "# hub = docutment\n",
    "TF_IDF = {}\n",
    "\n",
    "#Calculates the TF-IDF for each word\n",
    "for k,v in TF_hub.items():\n",
    "    TF_IDF[k] = calculateTF_IDF(v, IDF_hub)\n",
    "    \n",
    "    print(k, len(TF_IDF[k]))\n",
    "    [print(' ', TF_IDF[k]) for i in range(2)]\n",
    "    "
   ]
  },
  {
   "cell_type": "markdown",
   "metadata": {},
   "source": [
    "#### TF-IDF for wikis:\n",
    "wiki = document"
   ]
  },
  {
   "cell_type": "code",
   "execution_count": null,
   "metadata": {
    "collapsed": true
   },
   "outputs": [],
   "source": [
    "'''\n",
    "# wiki = docutment\n",
    "TF_hub = {}\n",
    "\n",
    "#Calculates the TF for each word\n",
    "for k,v in hub_articles_wiki_filtered.items():\n",
    "    if k not in TF_hub:\n",
    "        TF_hub[k] = {}\n",
    "    \n",
    "    for wiki, text in v.items():\n",
    "        TF_hub[k][wiki] = calculateTF(text)\n",
    "    \n",
    "    #The 3 words with the highest term frequency for both Democratic and Republican tweets:\n",
    "    print(k, len(TF_hub[k]))\n",
    "    [print(' ', TF_hub[k][i][:2], len(TF_hub[k][i])) for i in list(TF_hub[k].keys())[:3]]\n",
    "'''"
   ]
  },
  {
   "cell_type": "code",
   "execution_count": null,
   "metadata": {
    "collapsed": true
   },
   "outputs": [],
   "source": [
    "'''\n",
    "# wiki = docutment\n",
    "IDF_hub = {}\n",
    "for k,v in hub_articles_wiki_filtered.items():\n",
    "    #Calculates the IDF for each word\n",
    "    IDF_hub[k] = calculateIDF(v)\n",
    "\n",
    "    #The 3 words with the highest inverse document frequency for both Democratic and Republican tweets:\n",
    "    print(k, IDF_hub[k][:3])\n",
    "'''"
   ]
  },
  {
   "cell_type": "markdown",
   "metadata": {
    "collapsed": true
   },
   "source": [
    "### 3.7 Sentiment"
   ]
  },
  {
   "cell_type": "code",
   "execution_count": 60,
   "metadata": {},
   "outputs": [
    {
     "data": {
      "text/html": [
       "<div>\n",
       "<style>\n",
       "    .dataframe thead tr:only-child th {\n",
       "        text-align: right;\n",
       "    }\n",
       "\n",
       "    .dataframe thead th {\n",
       "        text-align: left;\n",
       "    }\n",
       "\n",
       "    .dataframe tbody tr th {\n",
       "        vertical-align: top;\n",
       "    }\n",
       "</style>\n",
       "<table border=\"1\" class=\"dataframe\">\n",
       "  <thead>\n",
       "    <tr style=\"text-align: right;\">\n",
       "      <th></th>\n",
       "      <th>word</th>\n",
       "      <th>happiness_rank</th>\n",
       "      <th>happiness_average</th>\n",
       "      <th>happiness_standard_deviation</th>\n",
       "      <th>twitter_rank</th>\n",
       "      <th>google_rank</th>\n",
       "      <th>nyt_rank</th>\n",
       "      <th>lyrics_rank</th>\n",
       "    </tr>\n",
       "  </thead>\n",
       "  <tbody>\n",
       "    <tr>\n",
       "      <th>0</th>\n",
       "      <td>laughter</td>\n",
       "      <td>1</td>\n",
       "      <td>8.50</td>\n",
       "      <td>0.9313</td>\n",
       "      <td>3600</td>\n",
       "      <td>--</td>\n",
       "      <td>--</td>\n",
       "      <td>1728</td>\n",
       "    </tr>\n",
       "    <tr>\n",
       "      <th>1</th>\n",
       "      <td>happiness</td>\n",
       "      <td>2</td>\n",
       "      <td>8.44</td>\n",
       "      <td>0.9723</td>\n",
       "      <td>1853</td>\n",
       "      <td>2458</td>\n",
       "      <td>--</td>\n",
       "      <td>1230</td>\n",
       "    </tr>\n",
       "    <tr>\n",
       "      <th>2</th>\n",
       "      <td>love</td>\n",
       "      <td>3</td>\n",
       "      <td>8.42</td>\n",
       "      <td>1.1082</td>\n",
       "      <td>25</td>\n",
       "      <td>317</td>\n",
       "      <td>328</td>\n",
       "      <td>23</td>\n",
       "    </tr>\n",
       "    <tr>\n",
       "      <th>3</th>\n",
       "      <td>happy</td>\n",
       "      <td>4</td>\n",
       "      <td>8.30</td>\n",
       "      <td>0.9949</td>\n",
       "      <td>65</td>\n",
       "      <td>1372</td>\n",
       "      <td>1313</td>\n",
       "      <td>375</td>\n",
       "    </tr>\n",
       "    <tr>\n",
       "      <th>4</th>\n",
       "      <td>laughed</td>\n",
       "      <td>5</td>\n",
       "      <td>8.26</td>\n",
       "      <td>1.1572</td>\n",
       "      <td>3334</td>\n",
       "      <td>3542</td>\n",
       "      <td>--</td>\n",
       "      <td>2332</td>\n",
       "    </tr>\n",
       "  </tbody>\n",
       "</table>\n",
       "</div>"
      ],
      "text/plain": [
       "        word  happiness_rank  happiness_average  happiness_standard_deviation  \\\n",
       "0   laughter               1               8.50                        0.9313   \n",
       "1  happiness               2               8.44                        0.9723   \n",
       "2       love               3               8.42                        1.1082   \n",
       "3      happy               4               8.30                        0.9949   \n",
       "4    laughed               5               8.26                        1.1572   \n",
       "\n",
       "  twitter_rank google_rank nyt_rank lyrics_rank  \n",
       "0         3600          --       --        1728  \n",
       "1         1853        2458       --        1230  \n",
       "2           25         317      328          23  \n",
       "3           65        1372     1313         375  \n",
       "4         3334        3542       --        2332  "
      ]
     },
     "execution_count": 60,
     "metadata": {},
     "output_type": "execute_result"
    }
   ],
   "source": [
    "names=[\"word\", \"happiness_rank\",\"happiness_average\", \"happiness_standard_deviation\", \n",
    "       \"twitter_rank\", \"google_rank\", \"nyt_rank\", \"lyrics_rank\"]\n",
    "\n",
    "dsS1 = pd.read_csv('data/journal.pone.0026752.s001.TXT', header=None, delimiter=\"\\t\", names=names, skiprows=[0,1,2,3])\n",
    "dsS1.head()"
   ]
  },
  {
   "cell_type": "code",
   "execution_count": 61,
   "metadata": {
    "collapsed": true
   },
   "outputs": [],
   "source": [
    "# tokens is a list of tokens\n",
    "# ds is the data set S1 as a dataframe\n",
    "def calculates_sentiment(tokens, ds):\n",
    "    if len(tokens)==0:\n",
    "        return 0\n",
    "    \n",
    "    words = [word for word in tokens if word in ds['word'].values]\n",
    "    normalization = len(words)\n",
    "    \n",
    "    if normalization==0:\n",
    "        return 0\n",
    "    \n",
    "    sums = sum(ds.loc[ds['word'] == word]['happiness_average'].values[0] for word in words)\n",
    "    return sums/normalization"
   ]
  },
  {
   "cell_type": "code",
   "execution_count": null,
   "metadata": {},
   "outputs": [
    {
     "name": "stdout",
     "output_type": "stream",
     "text": [
      "Books 25\n",
      "4410, 1125, 2, 5186, 5228, 6027, 1865, 1761, 4, 3, 2, 3, 2, 11018, 2, 2, 4, 1, 1, 8308, 3, 4, 4, 3, 4, \n",
      "Comics 25\n",
      "1, 3, 4, 26292, 4419, 5637, 5855, 10376, 4398, 2, 3074, 6628, 1166, 1598, 2, 2, 2, 2, 1, 3, 16010, 1, 29173, 3, 4710, \n",
      "Games 25\n",
      "2854, 9396, 3998, 592, 13888, 7240, 6182, 2679, 3404, 639, 6731, 7801, 1310, 4775, 2058, 2769, 7879, 23720, 4862, 568, 1, 2, 10669, 2, 1, \n",
      "Lifestyle 25\n",
      "1, 1627, 9800, 1, 2, 2, 1, 23798, 6966, 1885, 5419, 3751, 46915, 2926, 1, 2, 1, 1, 1, 2, 10281, 3, 2, 2, 2, \n",
      "Movies 25\n",
      "1, 3046, 15503, 3, 1, 3, 3279, 2, 2, 3, 23811, 4, 3, 1, 3, "
     ]
    }
   ],
   "source": [
    "sentiment_hub = {}\n",
    "for k,v in hub_articles_wiki_filtered.items():\n",
    "    if k not in sentiment_hub:\n",
    "        sentiment_hub[k] = []\n",
    "    print(k, len(v))\n",
    "    for wiki, text in list(v.items()):\n",
    "        sentiment_hub[k].append((wiki,(calculates_sentiment(text, dsS1))))\n",
    "        print(len(text), end=', ')\n",
    "    print()\n",
    "        "
   ]
  },
  {
   "cell_type": "code",
   "execution_count": null,
   "metadata": {},
   "outputs": [],
   "source": [
    "sentiment_hub_hist = {}\n",
    "for k,v in sentiment_hub.items():\n",
    "    sentiment_hub_hist[k] = [s[1] for s in v]\n",
    "\n",
    "createHistigram(\"ylable\", \"xlable\", \"Sentiment Analysis\", \"Sentiment_Analysis\", sentiment_hub_hist, 20)"
   ]
  },
  {
   "cell_type": "code",
   "execution_count": null,
   "metadata": {},
   "outputs": [],
   "source": [
    "\n",
    "# Create Histogram \n",
    "plt.figure(figsize=(12, 5))  \n",
    "plt.style.use('seaborn-deep')\n",
    "bins = np.linspace(0, np.max([np.max(s) for s in sentiment_hub_hist.values()]), 20)\n",
    "\n",
    "plt.hist([s for s in sentiment_hub_hist.values()], \n",
    "         bins, \n",
    "         label=[s for s in sentiment_hub_hist.keys()], \n",
    "         histtype='bar', \n",
    "         cumulative=False)\n",
    "\n",
    "plt.legend(loc='upper right')\n",
    "plt.tight_layout()\n",
    "plt.title(\"Cumulative distribution of outgoing strength for the republican and democratic nodes\")\n",
    "plt.ylabel(\"Number of tweets\")\n",
    "plt.xlabel(\"Sentiment (low is negative, high is positive)\")\n",
    "plt.show()"
   ]
  },
  {
   "cell_type": "code",
   "execution_count": null,
   "metadata": {
    "collapsed": true
   },
   "outputs": [],
   "source": [
    "m_hub = {}\n",
    "o_hub = {}\n",
    "\n",
    "for k,v in sentiment_hub_hist.items():\n",
    "    m_hub[k] = np.average(v)\n",
    "    o_hub[k] = np.std(v)\n",
    "    \n",
    "    print(\"%s: average: %s, std: %s\" % (k, m_hub[k], o_hub[k]))"
   ]
  },
  {
   "cell_type": "code",
   "execution_count": null,
   "metadata": {
    "collapsed": true
   },
   "outputs": [],
   "source": [
    "# Negative words\n",
    "\n",
    "negativ_hub = {}\n",
    "for hub, sentimens in sentiment_hub.items()\n",
    "    for i in sentimens:\n",
    "        if sentimens[i][1]<(m_hub[hub][1]-2*o_hub[hub][1]):\n",
    "            negativ_hub[hub] += ' '+sentimens[i][0]\n",
    "    \n",
    "    print(\"%s: negative words: %s\" % (k, negativ_hub[hub][:100]))"
   ]
  },
  {
   "cell_type": "code",
   "execution_count": null,
   "metadata": {
    "collapsed": true
   },
   "outputs": [],
   "source": [
    "# Positive words\n",
    "\n",
    "positive_hub = {}\n",
    "for hub, sentimens in sentiment_hub.items()\n",
    "    for i in sentimens:\n",
    "        if sentimens[i][1]>(m_hub[hub][1]+2*o_hub[hub][1]):\n",
    "            positive_hub[hub] += ' '+sentimens[i][0]\n",
    "    \n",
    "    print(\"%s: negative words: %s\" % (k, positive_hub[hub][:100]))"
   ]
  },
  {
   "cell_type": "markdown",
   "metadata": {
    "collapsed": true
   },
   "source": [
    "### 3.8 WordClouds"
   ]
  },
  {
   "cell_type": "code",
   "execution_count": null,
   "metadata": {
    "collapsed": true
   },
   "outputs": [],
   "source": [
    "'''\n",
    "wordcloud = WordCloud(background_color='white').generate(textDem)\n",
    "plt.figure()\n",
    "plt.imshow(wordcloud, interpolation=\"bilinear\")\n",
    "plt.title('Word-cloud for Democratic tweets')\n",
    "plt.axis(\"off\")\n",
    "plt.show() \n",
    "'''"
   ]
  },
  {
   "cell_type": "markdown",
   "metadata": {},
   "source": [
    "## 4 Discussion\n",
    "\n",
    "* What went well?,\n",
    "* What is still missing? What could be improved?, Why?"
   ]
  },
  {
   "cell_type": "code",
   "execution_count": null,
   "metadata": {
    "collapsed": true
   },
   "outputs": [],
   "source": []
  }
 ],
 "metadata": {
  "kernelspec": {
   "display_name": "Python 3",
   "language": "python",
   "name": "python3"
  },
  "language_info": {
   "codemirror_mode": {
    "name": "ipython",
    "version": 3
   },
   "file_extension": ".py",
   "mimetype": "text/x-python",
   "name": "python",
   "nbconvert_exporter": "python",
   "pygments_lexer": "ipython3",
   "version": "3.6.3"
  }
 },
 "nbformat": 4,
 "nbformat_minor": 2
}
